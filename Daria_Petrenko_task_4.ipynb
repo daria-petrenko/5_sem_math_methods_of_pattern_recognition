{
 "cells": [
  {
   "cell_type": "markdown",
   "metadata": {},
   "source": [
    "## Машинное обучение, ФКН ВШЭ\n",
    "\n",
    "## Практическое задание 4\n",
    "\n",
    "### Общая информация\n",
    "Дата выдачи: 12 октября 2018\n",
    "\n",
    "Мягкий дедлайн: 7:59MSK 20 октября 2018 (за каждый день просрочки снимается 1 балл)\n",
    "\n",
    "Жесткий дедлайн: 23:59MSK 21 октября 2018."
   ]
  },
  {
   "cell_type": "markdown",
   "metadata": {},
   "source": [
    "### О задании\n",
    "\n",
    "В этом задании вы:\n",
    "- настроите метод опорных векторов, визуализируете опорные вектора\n",
    "- познакомитесь с калибровочными кривыми и сравните вероятности, выдаваемые логистической регрессией и методом опорных векторов\n",
    "- изучите методы работы с категориальными переменными\n",
    "- в качестве бонуса попробуете библиотеку vowpal wabbit.\n",
    "\n",
    "\n",
    "### Оценивание и штрафы\n",
    "Каждая из задач имеет определенную «стоимость» (указана в скобках около задачи). Максимально допустимая оценка за работу — 10 баллов.\n",
    "\n",
    "Сдавать задание после указанного срока сдачи нельзя. При выставлении неполного балла за задание в связи с наличием ошибок на усмотрение проверяющего предусмотрена возможность исправить работу на указанных в ответном письме условиях.\n",
    "\n",
    "Задание выполняется самостоятельно. «Похожие» решения считаются плагиатом и все задействованные студенты (в том числе те, у кого списали) не могут получить за него больше 0 баллов (подробнее о плагиате см. на странице курса). Если вы нашли решение какого-то из заданий (или его часть) в открытом источнике, необходимо указать ссылку на этот источник в отдельном блоке в конце вашей работы (скорее всего вы будете не единственным, кто это нашел, поэтому чтобы исключить подозрение в плагиате, необходима ссылка на источник).\n",
    "\n",
    "Неэффективная реализация кода может негативно отразиться на оценке.\n",
    "\n",
    "\n",
    "### Формат сдачи\n",
    "Для сдачи задания переименуйте получившийся файл *.ipynb в соответствии со следующим форматом: homework-practice-04-Username.ipynb, где Username — ваша фамилия и имя на латинице именно в таком порядке (например, homework-practice-04-IvanovIvan.ipynb).\n",
    "\n",
    "Для удобства проверки самостоятельно посчитайте свою максимальную оценку (исходя из набора решенных задач) и укажите ниже."
   ]
  },
  {
   "cell_type": "markdown",
   "metadata": {},
   "source": [
    "** Оценка:** ..."
   ]
  },
  {
   "cell_type": "code",
   "execution_count": 1,
   "metadata": {
    "ExecuteTime": {
     "end_time": "2018-10-12T07:35:57.811648Z",
     "start_time": "2018-10-12T07:35:56.275023Z"
    }
   },
   "outputs": [
    {
     "name": "stdout",
     "output_type": "stream",
     "text": [
      "Populating the interactive namespace from numpy and matplotlib\n"
     ]
    }
   ],
   "source": [
    "%pylab inline\n",
    "import pandas as pd\n",
    "\n",
    "from sklearn.datasets import make_classification\n",
    "from sklearn.model_selection import train_test_split"
   ]
  },
  {
   "cell_type": "code",
   "execution_count": 2,
   "metadata": {},
   "outputs": [],
   "source": [
    "from sklearn.linear_model import LogisticRegression\n",
    "from sklearn.svm import LinearSVC\n",
    "from sklearn.model_selection import GridSearchCV\n",
    "import matplotlib as plt\n",
    "from sklearn.metrics import roc_curve, precision_recall_curve, auc, roc_auc_score\n",
    "import time"
   ]
  },
  {
   "cell_type": "markdown",
   "metadata": {},
   "source": [
    "## Часть 1. Метод опорных векторов и калибровка вероятностней"
   ]
  },
  {
   "cell_type": "markdown",
   "metadata": {
    "ExecuteTime": {
     "end_time": "2018-10-12T07:36:04.765536Z",
     "start_time": "2018-10-12T07:35:57.814973Z"
    }
   },
   "source": [
    "Сгенерируем синтетические данные."
   ]
  },
  {
   "cell_type": "code",
   "execution_count": 2,
   "metadata": {
    "ExecuteTime": {
     "end_time": "2018-10-12T07:41:10.323028Z",
     "start_time": "2018-10-12T07:41:10.146798Z"
    }
   },
   "outputs": [],
   "source": [
    "X, y = make_classification(n_samples=100000, n_features=20,\n",
    "                                    n_informative=10, n_redundant=10,\n",
    "                                    random_state=42)\n",
    "\n",
    "X_train, X_test, y_train, y_test = train_test_split(X, y, test_size=0.3,\n",
    "                                                    random_state=42)"
   ]
  },
  {
   "cell_type": "markdown",
   "metadata": {},
   "source": [
    "__Задание 1.__ Обучение и применение метода опорных векторов.\n",
    "\n",
    "__(2 балла)__\n",
    "\n",
    "Обучите метод опорных векторов. На занятиях мы проходили обычный вариант, что соответствует линейному ядру (LinearSVC/LinearSVR в scikit-learn)."
   ]
  },
  {
   "cell_type": "code",
   "execution_count": 10,
   "metadata": {
    "ExecuteTime": {
     "end_time": "2018-10-11T20:39:43.088969Z",
     "start_time": "2018-10-11T20:39:43.084985Z"
    }
   },
   "outputs": [
    {
     "name": "stdout",
     "output_type": "stream",
     "text": [
      "[0.84748571 0.84922857 0.84944286 0.8495     0.8495     0.84774286\n",
      " 0.80497143 0.79532857 0.76774286 0.72128571 0.79364286]\n",
      "{'C': 0.01}\n",
      "0.8490333333333333\n"
     ]
    }
   ],
   "source": [
    "param = {'C': [10 ** x for x in range(-5, 6)]}\n",
    "svm = LinearSVC()\n",
    "grid = GridSearchCV(svm, param)\n",
    "grid.fit(X_train, y_train)\n",
    "print(grid.cv_results_['mean_test_score'])\n",
    "print(grid.best_params_)\n",
    "print(grid.score(X_test, y_test))"
   ]
  },
  {
   "cell_type": "code",
   "execution_count": 18,
   "metadata": {},
   "outputs": [],
   "source": [
    "svm = LinearSVC(C = 0.01)\n",
    "svm.fit(X_train, y_train)\n",
    "y_pred = svm.predict(X_test)\n",
    "y_dec = svm.decision_function(X_test)"
   ]
  },
  {
   "cell_type": "markdown",
   "metadata": {},
   "source": [
    "На тестовой части посчитайте ROC-AUC, PR-AUC. Постройте ROC и PR кривые."
   ]
  },
  {
   "cell_type": "code",
   "execution_count": 45,
   "metadata": {},
   "outputs": [
    {
     "name": "stdout",
     "output_type": "stream",
     "text": [
      "AUC ROC = 0.925862857537628\n",
      "AUC PR = 0.9247539362369965\n"
     ]
    },
    {
     "data": {
      "image/png": "[encoded data removed]",
      "text/plain": [
       "<Figure size 720x288 with 2 Axes>"
      ]
     },
     "metadata": {
      "needs_background": "light"
     },
     "output_type": "display_data"
    }
   ],
   "source": [
    "fpr, tpr, thresholds = roc_curve(y_test, y_dec)\n",
    "precision, recall, thresholds = precision_recall_curve(y_test, y_dec)\n",
    "\n",
    "fig, (ax1, ax2) = plt.subplots(1, 2, figsize=(10, 4))\n",
    "plt.subplots_adjust(wspace=0.5)\n",
    "ax1.plot(fpr, tpr)\n",
    "ax1.grid(True)\n",
    "ax1.set_ylabel('True Positive Rate')\n",
    "ax1.set_xlabel('False Positive Rate')\n",
    "ax1.set_title('ROC curve')\n",
    "\n",
    "ax2.plot(recall, precision)\n",
    "ax2.grid(True)\n",
    "ax2.set_ylabel('Precision')\n",
    "ax2.set_xlabel('Recall')\n",
    "ax2.set_title('PR curve')\n",
    "\n",
    "print('AUC ROC =', auc(fpr, tpr))\n",
    "print('AUC PR =', auc(recall, precision))"
   ]
  },
  {
   "cell_type": "markdown",
   "metadata": {},
   "source": [
    "В названии метода присутствуют некоторые \"опорные векторы\". Сгенерируйте синтетический датасет с помощью make_classification с 2 признаками, обучите на нём метод опорных векторов. Визуализируйте разделяющую прямую, все объекты и выделите опорные вектора (атрибут support\\_vectors\\_). В этот раз вместо LinearSVC воспользуйтесь SVC с линейным ядром (kernel='linear'), так как только в нём есть информация об опорных векторах."
   ]
  },
  {
   "cell_type": "code",
   "execution_count": 74,
   "metadata": {},
   "outputs": [],
   "source": [
    "X, y = make_classification(n_samples=1000, n_features=2, n_informative=2, n_redundant=0)"
   ]
  },
  {
   "cell_type": "code",
   "execution_count": 77,
   "metadata": {},
   "outputs": [
    {
     "name": "stdout",
     "output_type": "stream",
     "text": [
      "{'C': 10}\n"
     ]
    }
   ],
   "source": [
    "param = {'C': [10 ** x for x in range(-5, 6)]}\n",
    "svm = SVC(kernel='linear')\n",
    "grid = GridSearchCV(svm, param)\n",
    "grid.fit(X, y)\n",
    "print(grid.best_params_)"
   ]
  },
  {
   "cell_type": "code",
   "execution_count": 103,
   "metadata": {},
   "outputs": [
    {
     "data": {
      "text/plain": [
       "<matplotlib.contour.QuadContourSet at 0x7f826c464da0>"
      ]
     },
     "execution_count": 103,
     "metadata": {},
     "output_type": "execute_result"
    },
    {
     "data": {
      "image/png": "[encoded data removed]",
      "text/plain": [
       "<Figure size 576x576 with 1 Axes>"
      ]
     },
     "metadata": {
      "needs_background": "light"
     },
     "output_type": "display_data"
    }
   ],
   "source": [
    "svm = SVC(kernel='linear', C=10)\n",
    "svm.fit(X, y)\n",
    "support = svm.support_\n",
    "\n",
    "# objects visualization\n",
    "mask = y == 1\n",
    "plt.figure(figsize=(8, 8))\n",
    "plt.scatter(X[mask][:,0], X[mask][:, 1], c='tomato', label='class 1, objects')\n",
    "mask = logical_not(mask)\n",
    "plt.scatter(X[mask][:, 0], X[mask][:, 1], c='skyblue', label='class 0, objects')\n",
    "X_sup = X[support]\n",
    "y_sup = y[support]\n",
    "mask = y_sup == 1\n",
    "plt.scatter(X_sup[mask][:, 0], X_sup[mask][:, 1], c='darkred', label='class 1, support vectors')\n",
    "mask = logical_not(mask)\n",
    "plt.scatter(X_sup[mask][:, 0], X_sup[mask][:, 1], c='blue', label='class 0, support vectors')\n",
    "handles, labels = plt.gca().get_legend_handles_labels()\n",
    "order = [0,2,1,3]\n",
    "plt.legend([handles[idx] for idx in order],[labels[idx] for idx in order])\n",
    "\n",
    "#separating hyperplane visualization\n",
    "ax = plt.gca()\n",
    "xlim = ax.get_xlim()\n",
    "ylim = ax.get_ylim()\n",
    "\n",
    "xx = np.linspace(xlim[0], xlim[1], 100)\n",
    "yy = np.linspace(ylim[0], ylim[1], 100)\n",
    "YY, XX = np.meshgrid(yy, xx)\n",
    "xy = np.vstack([XX.ravel(), YY.ravel()]).T\n",
    "\n",
    "Z = svm.decision_function(xy).reshape(XX.shape)\n",
    "plt.contour(XX, YY, Z, levels=0)"
   ]
  },
  {
   "cell_type": "markdown",
   "metadata": {},
   "source": [
    "# __Задание 2.__ Калибровка вероятностей.\n",
    "\n",
    "__(2 балла)__\n",
    "\n",
    "Перейдём к оценке качества выдаваемых алгоритмами вероятностей. Начнём с калибровочных кривых. \n",
    "\n",
    "Допустим, алгоритм возвращает некоторые числа от нуля до единицы. Хорошо ли они оценивают вероятность? Для этого разобьем отрезок $[0, 1]$ на несколько маленьких отрезков одинаковой длины. Рассмотрим $i$-й отрезок с границами $[a_i, b_i]$ и предсказания $p_1, p_2, \\dots, p_k$, которые попали в него. Пусть им соответствуют истинные ответы $y_1, y_2, \\dots, y_k$. Если алгоритм выдает корректные вероятности, то среди этих истинных ответов должно быть примерно $(a_i + b_i) / 2$ единиц. Иными словами, если нарисовать кривую, у которой по оси X отложены центры отрезков, а по оси Y — доли единичных ответов этих в отрезках, то она должна оказаться диагональной. Ниже приведена функция, которая должна рисовать такие кривые. В ней допущено две ошибки — найдите и исправьте их."
   ]
  },
  {
   "cell_type": "code",
   "execution_count": 3,
   "metadata": {},
   "outputs": [],
   "source": [
    "def plot_calibration_curve(y_test, preds):\n",
    "    bin_middle_points = []\n",
    "    bin_real_ratios = []\n",
    "    n_bins = 20\n",
    "    for i in range(n_bins):\n",
    "        l = 1.0 / n_bins * i\n",
    "        r = 1.0 / n_bins * (i + 1)\n",
    "        bin_middle_points.append((l + r) / 2)  # был неправильно поставлен знак: должна быть сумма, а не разность\n",
    "        bin_real_ratios.append(np.sum(y_test[(preds >= l) & (preds < r)] == 1) /\n",
    "                               np.size(y_test[(preds >= l) & (preds < r)])) # была неправильно посчитана доля единиц\n",
    "    plt.plot(bin_middle_points, bin_real_ratios)"
   ]
  },
  {
   "cell_type": "markdown",
   "metadata": {},
   "source": [
    "Постройте калибровочные кривые для логистической регрессии и метода опорных векторов. Изучите распределение ответов классификаторов (постройте гистограммы с помощью plt.hist). Чем они различаются? Чем вы можете объяснить это?\n",
    "\n",
    "Заметим, что метод опорных векторов не умеет predict_proba, но имеет метод decision_function."
   ]
  },
  {
   "cell_type": "code",
   "execution_count": 4,
   "metadata": {},
   "outputs": [
    {
     "name": "stdout",
     "output_type": "stream",
     "text": [
      "{'C': 0.01}\n"
     ]
    }
   ],
   "source": [
    "lr = LogisticRegression()\n",
    "param = {'C': [10 ** x for x in range(-5, 6)]}\n",
    "grid = GridSearchCV(lr, param)\n",
    "grid.fit(X_train, y_train)\n",
    "print(grid.best_params_)"
   ]
  },
  {
   "cell_type": "code",
   "execution_count": 6,
   "metadata": {},
   "outputs": [],
   "source": [
    "lr = LogisticRegression(C=0.01)\n",
    "lr.fit(X_train, y_train)\n",
    "y_proba_lr = lr.predict_proba(X_test)\n",
    "\n",
    "svm = LinearSVC(C = 0.01)\n",
    "svm.fit(X_train, y_train)\n",
    "y_proba_svm = svm.decision_function(X_test)"
   ]
  },
  {
   "cell_type": "code",
   "execution_count": 7,
   "metadata": {},
   "outputs": [
    {
     "data": {
      "text/plain": [
       "Text(0.5,1,'calibration curve for logistic regression')"
      ]
     },
     "execution_count": 7,
     "metadata": {},
     "output_type": "execute_result"
    },
    {
     "data": {
      "image/png": "[encoded data removed]",
      "text/plain": [
       "<Figure size 432x288 with 1 Axes>"
      ]
     },
     "metadata": {
      "needs_background": "light"
     },
     "output_type": "display_data"
    }
   ],
   "source": [
    "plot_calibration_curve(y_test, y_proba_lr[:, 1])\n",
    "plt.grid(True)\n",
    "plt.title('calibration curve for logistic regression')"
   ]
  },
  {
   "cell_type": "code",
   "execution_count": 18,
   "metadata": {},
   "outputs": [
    {
     "data": {
      "text/plain": [
       "Text(0.5,1,'calibration curve for support vector machine')"
      ]
     },
     "execution_count": 18,
     "metadata": {},
     "output_type": "execute_result"
    },
    {
     "data": {
      "image/png": "[encoded data removed]",
      "text/plain": [
       "<Figure size 432x288 with 1 Axes>"
      ]
     },
     "metadata": {
      "needs_background": "light"
     },
     "output_type": "display_data"
    }
   ],
   "source": [
    "from sklearn.preprocessing import MinMaxScaler\n",
    "\n",
    "minmax = MinMaxScaler()\n",
    "y_proba_svm_minmax = minmax.fit_transform(y_proba_svm[:, np.newaxis])\n",
    "plot_calibration_curve(y_test, y_proba_svm_minmax[:, 0])\n",
    "plt.grid(True)\n",
    "plt.title('calibration curve for support vector machine')"
   ]
  },
  {
   "cell_type": "code",
   "execution_count": 30,
   "metadata": {},
   "outputs": [
    {
     "data": {
      "image/png": "[encoded data removed]",
      "text/plain": [
       "<Figure size 720x360 with 2 Axes>"
      ]
     },
     "metadata": {
      "needs_background": "light"
     },
     "output_type": "display_data"
    }
   ],
   "source": [
    "fig, (ax1, ax2) = plt.subplots(1, 2, figsize=(10, 5))\n",
    "ax1.hist(y_proba_lr[:, 1])\n",
    "ax1.set_xlabel('positive class probability')\n",
    "ax1.set_ylabel('number of objects')\n",
    "ax1.set_title('histogram for logistic regression')\n",
    "ax2.hist(y_proba_svm_minmax)\n",
    "ax1.grid(True)\n",
    "ax2.set_xlabel('positive class probability')\n",
    "ax2.set_ylabel('number of objects')\n",
    "ax2.set_title('histogram for support vector machine')\n",
    "ax2.grid(True)"
   ]
  },
  {
   "cell_type": "markdown",
   "metadata": {},
   "source": [
    "По калибровочным кривым видно, что метод логистической регрессии корректно предсказывает вероятности классов, тк кривая близка к диагональной. В то же время преобразованные функцией Minmaxscaler() к диапазону (0,1) ответы метода опорных векторов значительно занижают близкие к 0 вероятности и завышают близкие к 1.\n",
    "\n",
    "На гистограммах видно, что логистическая регрессия больше всего объектов четко относит к положительному или отрицательному классу, остальные вероятности представлены плавно убывающим к центру гистограммы (вероятность=0.5) числом объектов. Можно предположить, что такое распределение примерно соответствует реальному распределению эмпирических вероятностей на выборке.\n",
    "\n",
    "По результатам, полученным с помощью метода опорных векторов, больше всего объектов имеют вероятность 0.5 принадлежности положительному классу. А вероятности 1 или 0 присвоены почти нулевому числу объектов. Возможно, это связано с тем, что изначально метод вернул расстояния до опорной прямой (с разными знаками, в зависимости от того, по какую сторону от прямой лежат объекты). Больше всего объектов расположено вблизи прямой, и их концентрация снижается по мере отдаления от нее. Вероятности 0.5 как раз соответствуют объекты из центральной части получившегося диапазона.\n",
    "\n",
    "Также, тк диапазон значений получается значительно больше, чем (0, 1), то для объектов, расположенных на периферии (то есть тех, для которых вероятность принадлежности к одному из классов близка к 1), полученное после масштабирование значение будет намного больше или меньше реальной вероятности. Это мы и видим на калибровочной кривой. А резкий скачок в окрестности 0.5 соответствует большому числу отъектов, для которых предсказанная методом вероятность равно 0.5"
   ]
  },
  {
   "cell_type": "markdown",
   "metadata": {},
   "source": [
    "Воспользуйтесь CalibratedClassifierCV из sklearn для калибровки вероятностей метода опорных векторов на обучении и постройте с его помощью предсказания для тестовой выборки. Нарисуйте для них калибровочную кривую. Улучшилась ли она?"
   ]
  },
  {
   "cell_type": "code",
   "execution_count": 31,
   "metadata": {},
   "outputs": [],
   "source": [
    "from sklearn.calibration import CalibratedClassifierCV\n",
    "\n",
    "c_cl = CalibratedClassifierCV(svm, method='sigmoid')\n",
    "c_cl.fit(X_train, y_train)\n",
    "y_proba_svm_c = c_cl.predict_proba(X_test)"
   ]
  },
  {
   "cell_type": "code",
   "execution_count": 32,
   "metadata": {},
   "outputs": [
    {
     "data": {
      "text/plain": [
       "Text(0.5,1,'calibration curve for support vector machine')"
      ]
     },
     "execution_count": 32,
     "metadata": {},
     "output_type": "execute_result"
    },
    {
     "data": {
      "image/png": "[encoded data removed]",
      "text/plain": [
       "<Figure size 432x288 with 1 Axes>"
      ]
     },
     "metadata": {
      "needs_background": "light"
     },
     "output_type": "display_data"
    }
   ],
   "source": [
    "plot_calibration_curve(y_test, y_proba_svm_c[:, 1])\n",
    "plt.grid(True)\n",
    "plt.title('calibration curve for support vector machine')"
   ]
  },
  {
   "cell_type": "markdown",
   "metadata": {},
   "source": [
    "Калибровочная кривая заметно улучшилась и стала близка к диагональной."
   ]
  },
  {
   "cell_type": "markdown",
   "metadata": {},
   "source": [
    "__Бонусное задание (1 балл).__ Реализуйте свою функцию для калибровки вероятностей. Опишите ваш подход и продемонстрируйте результаты."
   ]
  },
  {
   "cell_type": "code",
   "execution_count": null,
   "metadata": {},
   "outputs": [],
   "source": []
  },
  {
   "cell_type": "markdown",
   "metadata": {},
   "source": [
    "## Часть 2. Работа с категориальными переменными"
   ]
  },
  {
   "cell_type": "markdown",
   "metadata": {},
   "source": [
    "В этой части мы научимся обрабатывать категориальные переменные, так как закодировать их в виде чисел недостаточно (это задаёт некоторый порядок, которого на категориальных переменных может и не быть). Существует два основных способа обработки категориальных значений:\n",
    "- One-hot-кодирование\n",
    "- Счётчики (CTR, mean-target кодирование, ...) — каждый категориальный признак заменяется на среднее значение целевой переменной по всем объектам, имеющим одинаковое значение в этом признаке.\n",
    "\n",
    "Начнём с one-hot-кодирования. Допустим наш категориальный признак $f_j(x)$ принимает значения из множества $C=\\{c_1, \\dots, c_m\\}$. Заменим его на $m$ бинарных признаков $b_1(x), \\dots, b_m(x)$, каждый из которых является индикатором одного из возможных категориальных значений:\n",
    "$$\n",
    "b_i(x) = [f_j(x) = c_i]\n",
    "$$"
   ]
  },
  {
   "cell_type": "markdown",
   "metadata": {
    "ExecuteTime": {
     "end_time": "2018-10-11T20:41:54.913436Z",
     "start_time": "2018-10-11T20:41:54.907515Z"
    }
   },
   "source": [
    "__Подготовка данных.__\n",
    "\n",
    "Загрузим данные с прошлогоднего конкурса  [Kaggle Porto Seguro’s Safe Driver Prediction](https://www.kaggle.com/c/porto-seguro-safe-driver-prediction) (вам нужна только обучающая выборка). Задача состоит в определении водителей, которые в ближайший год воспользуются своей автомобильной страховкой (бинарная классификация). Но для нас важна будет не сама задача, а только её данные. При этом под нужды задания мы немного модифицируем датасет."
   ]
  },
  {
   "cell_type": "code",
   "execution_count": 3,
   "metadata": {
    "ExecuteTime": {
     "end_time": "2018-10-12T07:36:04.765536Z",
     "start_time": "2018-10-12T07:35:57.814973Z"
    }
   },
   "outputs": [],
   "source": [
    "data = pd.read_csv('train.csv', index_col=0)\n",
    "target = data.target.values\n",
    "data = data.drop('target', axis=1)"
   ]
  },
  {
   "cell_type": "markdown",
   "metadata": {},
   "source": [
    "Пересемплируем выборку так, чтобы положительных и отрицательных объектов в выборке было одинаковое число. Разделим на обучающую и тестовую выборки.\n"
   ]
  },
  {
   "cell_type": "code",
   "execution_count": 4,
   "metadata": {
    "ExecuteTime": {
     "end_time": "2018-10-12T07:36:05.368407Z",
     "start_time": "2018-10-12T07:36:04.770388Z"
    }
   },
   "outputs": [],
   "source": [
    "# some resampling\n",
    "np.random.seed(910)\n",
    "mask_plus = np.random.choice(np.where(target == 1)[0], 100000, replace=True)\n",
    "mask_zero = np.random.choice(np.where(target == 0)[0], 100000, replace=True)\n",
    "\n",
    "data = pd.concat((data.iloc[mask_plus], data.iloc[mask_zero]))\n",
    "target = np.hstack((target[mask_plus], target[mask_zero]))\n",
    "\n",
    "X_train, X_test, y_train, y_test = train_test_split(data, target, test_size=0.5)"
   ]
  },
  {
   "cell_type": "markdown",
   "metadata": {},
   "source": [
    "__Задание 0.__ Посчитайте качество (в этом задании будем работать ROC-AUC) на исходных признаках при применении логистической регрессии.\n",
    "\n",
    "__(0 баллов)__"
   ]
  },
  {
   "cell_type": "code",
   "execution_count": 36,
   "metadata": {},
   "outputs": [
    {
     "name": "stdout",
     "output_type": "stream",
     "text": [
      "{'C': 0.1}\n"
     ]
    }
   ],
   "source": [
    "lr = LogisticRegression()\n",
    "param = {'C': [10 ** x for x in range(-3, 3)]}\n",
    "grid = GridSearchCV(lr, param, scoring='roc_auc')\n",
    "grid.fit(X_train, y_train)\n",
    "print(grid.best_params_)"
   ]
  },
  {
   "cell_type": "code",
   "execution_count": 19,
   "metadata": {},
   "outputs": [
    {
     "name": "stdout",
     "output_type": "stream",
     "text": [
      "wall time: 4.688273668289185\n",
      "AUC ROC 0.6250644334009279\n"
     ]
    }
   ],
   "source": [
    "start = time.time()\n",
    "lr = LogisticRegression(C=0.1)\n",
    "lr.fit(X_train, y_train)\n",
    "end = time.time()\n",
    "print('wall time:', end - start)\n",
    "y_proba = lr.predict_proba(X_test)\n",
    "print(\"AUC ROC\", roc_auc_score(y_test, y_proba[:, 1]))"
   ]
  },
  {
   "cell_type": "markdown",
   "metadata": {},
   "source": [
    " __Задание 1.__ Закодируйте все категориальные признаки с помощью one-hot-кодирования. Обучите логистическую регрессию и посмотрите, как изменилось качество модели (с тем, что было до кодирования). Измерьте время, потребовавшееся на обучение модели.\n",
    "\n",
    "__(1 балл)__"
   ]
  },
  {
   "cell_type": "code",
   "execution_count": 28,
   "metadata": {},
   "outputs": [],
   "source": [
    "names_list = X_train.columns.values.tolist()\n",
    "ind_list = []\n",
    "for name in names_list:\n",
    "    if name.endswith('cat'):\n",
    "        ind_list.append(name)"
   ]
  },
  {
   "cell_type": "code",
   "execution_count": 21,
   "metadata": {},
   "outputs": [],
   "source": [
    "X_train_one_hot = X_train.copy()\n",
    "X_test_one_hot = X_test.copy()\n",
    "\n",
    "for ind in ind_list:\n",
    "    one_hot_train = pd.get_dummies(X_train[ind])\n",
    "    one_hot_test = pd.get_dummies(X_test[ind])\n",
    "    final_train, final_test = one_hot_train.align(one_hot_test, join='left', axis=1, fill_value=0)\n",
    "    X_train_one_hot = X_train_one_hot.drop(ind, axis=1)\n",
    "    X_train_one_hot = pd.concat([X_train_one_hot, one_hot_train], axis=1)\n",
    "    X_test_one_hot = X_test_one_hot.drop(ind, axis=1)\n",
    "    X_test_one_hot = pd.concat([X_test_one_hot, one_hot_test], axis=1)"
   ]
  },
  {
   "cell_type": "code",
   "execution_count": 46,
   "metadata": {},
   "outputs": [
    {
     "name": "stdout",
     "output_type": "stream",
     "text": [
      "{'C': 0.1}\n"
     ]
    }
   ],
   "source": [
    "lr = LogisticRegression()\n",
    "param = {'C': [10 ** x for x in range(-3, 3)]}\n",
    "grid = GridSearchCV(lr, param, scoring='roc_auc')\n",
    "grid.fit(X_train, y_train)\n",
    "print(grid.best_params_)"
   ]
  },
  {
   "cell_type": "code",
   "execution_count": 22,
   "metadata": {},
   "outputs": [
    {
     "name": "stdout",
     "output_type": "stream",
     "text": [
      "wall time: 6.929536819458008\n",
      "AUC ROC 0.6332510327188149\n"
     ]
    }
   ],
   "source": [
    "start = time.time()\n",
    "lr = LogisticRegression(C=0.1)\n",
    "lr.fit(X_train_one_hot, y_train)\n",
    "stop = time.time()\n",
    "print('wall time:', stop - start)\n",
    "y_proba = lr.predict_proba(X_test_one_hot)\n",
    "print(\"AUC ROC\", roc_auc_score(y_test, y_proba[:, 1]))"
   ]
  },
  {
   "cell_type": "markdown",
   "metadata": {},
   "source": [
    "Время, потребовавшееся на обучение модели, значительно возросло (с 4.48 секунд до 6.93), в то время как качество улучшилось совсем незначительно (значение AUC ROC возросло с 0.6250 до 0.6333)."
   ]
  },
  {
   "cell_type": "markdown",
   "metadata": {},
   "source": [
    "Как можно было заменить, one-hot-кодирование может сильно увеличивать количество признаков в датасете, что сказывается на памяти, особенно, если некоторый признак имеет большое количество значений. Эту проблему решает другой способ кодирование категориальных признаков — счётчики. Основная идея в том, что нам важны не сами категории, а значения целевой переменной, которые имеют объекты этой категории. Каждый категориальный признак мы заменим средним значением целевой переменной по всем объектам этой же категории:\n",
    "$$\n",
    "g_j(x, X) = \\frac{\\sum_{i=1}^{l} [f_j(x) = f_j(x_i)][y_i = +1]}{\\sum_{i=1}^{l} [f_j(x) = f_j(x_i)]}\n",
    "$$\n",
    "\n",
    "__Задание 2.__ Закодируйте категориальные переменные с помощью счётчиков (ровно так, как описано выше без каких-либо хитростей). Обучите логистическую регрессию и посмотрите на качество модели на тестовом множестве. Сравните время обучения с предыдущим экспериментов. Заметили ли вы что-то интересное?\n",
    "\n",
    "__(2 балла)__"
   ]
  },
  {
   "cell_type": "code",
   "execution_count": 6,
   "metadata": {},
   "outputs": [],
   "source": [
    "X_train_counts = X_train.copy()\n",
    "X_test_counts = X_test.copy()\n",
    "\n",
    "for ind in ind_list:\n",
    "    cat_list = np.unique(X_train[ind])\n",
    "    counts_train = np.zeros(np.size(X_train[ind]))\n",
    "    counts_test = np.zeros(np.size(X_test[ind]))\n",
    "    for cat in cat_list:         \n",
    "        cat_val = np.sum(np.equal(X_train[ind], cat) & y_train == 1) / np.sum(np.equal(X_train[ind], cat))\n",
    "        counts_train[X_train[ind] == cat] = cat_val\n",
    "        counts_test[X_test[ind] == cat] = cat_val\n",
    "    X_train_counts.loc[:, ind] = counts_train\n",
    "    X_test_counts.loc[:, ind] = counts_test"
   ]
  },
  {
   "cell_type": "code",
   "execution_count": 53,
   "metadata": {},
   "outputs": [
    {
     "name": "stdout",
     "output_type": "stream",
     "text": [
      "{'C': 1000000}\n",
      "AUC ROC 0.6288246230550746\n"
     ]
    }
   ],
   "source": [
    "params = {'C': [10 ** x for x in range(5, 10)]}\n",
    "\n",
    "lr = LogisticRegression()\n",
    "grid = GridSearchCV(lr, params, scoring='roc_auc')\n",
    "grid.fit(X_train_counts, y_train)\n",
    "y_proba = grid.predict_proba(X_test_counts)\n",
    "print(grid.best_params_)\n",
    "print(\"AUC ROC\", roc_auc_score(y_test, y_proba[:, 1]))"
   ]
  },
  {
   "cell_type": "code",
   "execution_count": 24,
   "metadata": {},
   "outputs": [
    {
     "name": "stdout",
     "output_type": "stream",
     "text": [
      "wall time: 20.88016152381897\n",
      "AUC ROC 0.6288246230550746\n"
     ]
    }
   ],
   "source": [
    "start = time.time()\n",
    "lr = LogisticRegression(C=1000000)\n",
    "lr.fit(X_train_counts, y_train)\n",
    "stop = time.time()\n",
    "print('wall time:', stop - start)\n",
    "y_proba = lr.predict_proba(X_test_counts)\n",
    "print(\"AUC ROC\", roc_auc_score(y_test, y_proba[:, 1]))"
   ]
  },
  {
   "cell_type": "markdown",
   "metadata": {},
   "source": [
    "Несмотря на то, что количество признаков значительно уменьшилось, время работы метода увеличилось в несколько раз, а качество на тестовой выборке стало немного лучше, чем на исходных данных, но хуже, чем при использовании one-hot кодирования."
   ]
  },
  {
   "cell_type": "markdown",
   "metadata": {},
   "source": [
    "Отметим, что такие признаки сами по себе являются классификаторами и, обучаясь на них, мы допускаем \"утечку\" целевой переменной в признаки. Это ведёт к переобучению, поэтому считать такие признаки необходимо таким образом, чтобы при вычислении для конкретного объекта его целевая метка не использовалась. Это можно делать следующими способами:\n",
    "1. Вычислять значение счётчика по всем объектам расположенным выше в датасете (например, если у нас выборка отсортирована по времени).\n",
    "2. Вычислять по фолдам, то есть делить выборку на некоторое количество частей и подсчитывать значение признаков по всем фолдам кроме текущего (как делается в кросс-валидации).\n",
    "3. Внесение некоторого шума в посчитанные признаки. \n",
    "\n",
    "__Задание 3.__ Реализуйте корректное вычисление счётчиков самым простым способом — добавление шума к значениям (необходимо соблюсти баланс между избавление от переобучения и полезностью признаков). Снова обучите логистическую регрессию, оцените качество. Сделайте выводы.\n",
    "\n",
    "__(1 балл)__\n",
    "\n",
    "__(Бонусная часть)__ Посчитайте корректные счётчики первым или вторым способов из описанных выше (не забудьте добавить и шум). \n",
    "\n",
    "__(+0.5 балла)__"
   ]
  },
  {
   "cell_type": "code",
   "execution_count": 7,
   "metadata": {},
   "outputs": [
    {
     "name": "stdout",
     "output_type": "stream",
     "text": [
      "noise in range: 1e-05\n",
      "AUC ROC 0.6288246902550755\n",
      "noise in range: 0.0001\n",
      "AUC ROC 0.6288187174549895\n",
      "noise in range: 0.001\n",
      "AUC ROC 0.6288293510551426\n"
     ]
    }
   ],
   "source": [
    "sigma_list = [10 ** x for x in range(-5, -2)]\n",
    "params = {'C': [10 ** x for x in range(5, 8)]}\n",
    "\n",
    "              \n",
    "for sigma in sigma_list:\n",
    "    X_train_counts_noise = X_train_counts.copy()\n",
    "    X_test_counts_noise = X_test_counts.copy()\n",
    "    for ind in ind_list:\n",
    "        noise_train = np.random.normal(0, sigma, np.size(X_train[ind])) * \\\n",
    "            -1 ** np.random.randint(0, 2, np.size(X_train[ind]))\n",
    "        noise_test = np.random.normal(0, sigma, np.size(X_test[ind])) * \\\n",
    "            -1 ** np.random.randint(0, 2, np.size(X_test[ind]))\n",
    "        X_train_counts_noise.loc[:, ind] = X_train_counts[ind] + noise_train\n",
    "        X_test_counts_noise.loc[:, ind] = X_test_counts[ind] + noise_test\n",
    "    lr = LogisticRegression()\n",
    "    grid = GridSearchCV(lr, params, scoring='roc_auc')\n",
    "    grid.fit(X_train_counts_noise, y_train)\n",
    "    y_proba = grid.predict_proba(X_test_counts_noise)\n",
    "    print('noise in range:', sigma)\n",
    "    print(\"AUC ROC\", roc_auc_score(y_test, y_proba[:, 1]))"
   ]
  },
  {
   "cell_type": "markdown",
   "metadata": {},
   "source": [
    "При добавлении шума точность увеличилась, но совсем незначительно (при значении sigma=0.001). При бОльших значениях точность резко ухудшается. Далее реализован подсчет по фолдам (способ 2)."
   ]
  },
  {
   "cell_type": "code",
   "execution_count": 33,
   "metadata": {},
   "outputs": [],
   "source": [
    "num_folds = 5\n",
    "size = np.size(X_train[ind_list[0]]) // num_folds\n",
    "X_train_counts_folds = X_train_counts.copy()\n",
    "X_test_counts_folds = X_test_counts.copy()\n",
    "\n",
    "for ind in ind_list:\n",
    "    cat_list = np.unique(X_train[ind])\n",
    "    counts_train = np.zeros(np.size(X_train[ind]))\n",
    "    counts_test = np.zeros(np.size(X_test[ind]))\n",
    "    indexes_list = np.arange(np.size(X_train[ind]))\n",
    "    np.random.shuffle(ind_list)\n",
    "    for fold in range(num_folds):\n",
    "        beg_ind = size * fold\n",
    "        end_ind = size * (fold + 1)\n",
    "        train_part = np.concatenate((indexes_list[:beg_ind], indexes_list[end_ind:]))\n",
    "        main_part = indexes_list[beg_ind: end_ind]\n",
    "        fold_train = np.zeros(np.size(main_part))\n",
    "        for cat in cat_list:\n",
    "            cat_val = np.sum(np.equal(X_train.iloc[train_part][ind], cat) & y_train[train_part] == 1) /  \\\n",
    "                np.sum(np.equal(X_train.iloc[train_part][ind], cat))\n",
    "            fold_train[X_train.iloc[main_part][ind] == cat] = cat_val\n",
    "        counts_train[main_part] = fold_train\n",
    "    for cat in cat_list:\n",
    "        counts_test[X_test[ind] == cat] = np.sum(np.equal(X_train[ind], cat) & y_train == 1) /  \\\n",
    "                np.sum(np.equal(X_train[ind], cat)) \n",
    "    X_train_counts_folds.loc[:, ind] = counts_train\n",
    "    X_test_counts_folds.loc[:, ind] = counts_test"
   ]
  },
  {
   "cell_type": "code",
   "execution_count": 34,
   "metadata": {},
   "outputs": [
    {
     "name": "stdout",
     "output_type": "stream",
     "text": [
      "{'C': 100000000}\n",
      "AUC ROC 0.6290142018578045\n"
     ]
    }
   ],
   "source": [
    "params = {'C': [10 ** x for x in range(6, 10)]}\n",
    "\n",
    "lr = LogisticRegression()\n",
    "grid = GridSearchCV(lr, params, scoring='roc_auc')\n",
    "grid.fit(X_train_counts_folds, y_train)\n",
    "y_proba = grid.predict_proba(X_test_counts_folds)\n",
    "print(grid.best_params_)\n",
    "print(\"AUC ROC\", roc_auc_score(y_test, y_proba[:, 1]))"
   ]
  },
  {
   "cell_type": "code",
   "execution_count": 35,
   "metadata": {},
   "outputs": [
    {
     "name": "stdout",
     "output_type": "stream",
     "text": [
      "AUC ROC 0.6281680430456198\n"
     ]
    }
   ],
   "source": [
    "X_train_counts_noise = X_train.copy()\n",
    "X_test_counts_noise = X_test.copy()\n",
    "for ind in ind_list:\n",
    "    noise_train = np.random.normal(0, 0.001, np.size(X_train[ind])) * \\\n",
    "        -1 ** np.random.randint(0, 2, np.size(X_train[ind]))\n",
    "    noise_test = np.random.normal(0.001, sigma, np.size(X_test[ind])) * \\\n",
    "        -1 ** np.random.randint(0, 2, np.size(X_test[ind]))\n",
    "    X_train_counts_noise.loc[:, ind] = X_train_counts_folds[ind] + noise_train\n",
    "    X_test_counts_noise.loc[:, ind] = X_test_counts_folds[ind] + noise_test\n",
    "lr = LogisticRegression(C = 100000000)\n",
    "lr.fit(X_train_counts_noise, y_train)\n",
    "y_proba = lr.predict_proba(X_test_counts_noise)\n",
    "print(\"AUC ROC\", roc_auc_score(y_test, y_proba[:, 1]))"
   ]
  },
  {
   "cell_type": "markdown",
   "metadata": {},
   "source": [
    "Точность при подсчете по фолдам немного улучшилась, но добавление шума повлияло негативно."
   ]
  },
  {
   "cell_type": "markdown",
   "metadata": {},
   "source": [
    "А теперь ответьте на следующий вопрос: что будет, если некоторая категория встречается в выборке всего несколько раз? По этой причине производится сглаживание счётчиков. Например, на практике хорошие результаты показывает использование сглаживания средним по всей выборке:\n",
    "$$\n",
    "g_j(x, X) = \\frac{\\sum_{i=1}^{\\ell} [f_j(x) = f_j(x_i)][y_i = +1] + C \\times global\\_mean}{\\sum_{i=1}^{\\ell} [f_j(x) = f_j(x_i)] + C}\n",
    "$$\n",
    "где $global\\_mean$ — среднее значение целевой переменной по всей выборке, $C$ — параметр, определяющий степень сглаживания (например, можно использовать 10 или подобрать для каждого признака свой). Основная идея в том, что мы \"разбавляем\" среднее значение по некоторой категории глобальным средним значении. И тем меньше, чем большее количество объектов этой категории встречается в выборке. \n",
    "\n",
    "Однако для сглаживания вместо среднего значения целевой переменной можно использовать любое другое значение от 0 до 1 (этот параметр иногда называют $prior$). Можно сделать несколько признаков с разными значениями параметра. На практике в задачах бинарной классификации полезными бывают даже отрицательные значения!\n",
    "\n",
    "__Задание 4.__ Добавьте сглаживание, описанное выше и повторите эксперименты.\n",
    "\n",
    "__(2 балла)__"
   ]
  },
  {
   "cell_type": "code",
   "execution_count": 43,
   "metadata": {},
   "outputs": [
    {
     "name": "stdout",
     "output_type": "stream",
     "text": [
      "AUC ROC 0.6195277393211995\n",
      "AUC ROC 0.6201666561303999\n",
      "AUC ROC 0.6223129009613058\n",
      "AUC ROC 0.6153554604611186\n",
      "AUC ROC 0.6221684913592264\n",
      "AUC ROC 0.6208572789403448\n",
      "AUC ROC 0.6205230773355324\n",
      "AUC ROC 0.620545693335858\n",
      "AUC ROC 0.6147641968526043\n",
      "AUC ROC 0.620320551332616\n"
     ]
    }
   ],
   "source": [
    "global_mean = np.sum(y_train) / np.size(y_train)\n",
    "X_train_counts_gl = X_train_counts.copy()\n",
    "X_test_counts_gl = X_test_counts.copy()\n",
    "C_list = [x for x in range(5, 15)]\n",
    "\n",
    "for C in C_list:\n",
    "    for ind in ind_list:\n",
    "        cat_list = np.unique(X_train[ind])\n",
    "        counts_train = np.zeros(np.size(X_train[ind]))\n",
    "        counts_test = np.zeros(np.size(X_test[ind]))\n",
    "        for cat in cat_list:         \n",
    "            cat_val = np.sum(np.equal(X_train[ind], cat) & y_train == 1) + C * global_mean / \\\n",
    "                np.sum(np.equal(X_train[ind], cat)) + C\n",
    "            counts_train[X_train[ind] == cat] = cat_val\n",
    "            counts_test[X_test[ind] == cat] = cat_val\n",
    "        X_train_counts_gl.loc[:, ind] = counts_train\n",
    "        X_test_counts_gl.loc[:, ind] = counts_test\n",
    "    lr = LogisticRegression(C = 10000)\n",
    "    lr.fit(X_train_counts_gl, y_train)\n",
    "    y_proba = lr.predict_proba(X_test_counts_gl)\n",
    "    print(\"AUC ROC\", roc_auc_score(y_test, y_proba[:, 1]))"
   ]
  },
  {
   "cell_type": "markdown",
   "metadata": {},
   "source": [
    "Не наблюдается прямой зависимости точности от значения параметра C, все полученные точности ниже точностей без применения сглаживания."
   ]
  },
  {
   "cell_type": "markdown",
   "metadata": {},
   "source": [
    "__Замечание.__ Усложнение методов вычисления счётчиков не делают результаты модели гарантированно лучше. Особенно с учётом того, что логистическая регрессия не такая сложная модель, чтобы переобучаться. Поэтому вы необязательно должны были получать на каждом шаге всё лучшие и лучшие результаты (но необходимые результаты у вас должны были получиться).\n",
    "\n",
    "Как вы должны были заметить, счётчики являются хорошей альтернативой one-hot-кодированию. Напишите, какие плюсы и минусы использования счётчиков по сравнению с one-hot-кодированием, вы заметили.\n",
    "\n",
    "__Ответ:__ При использовании счетчиков количество полученных признаков значительно меньше, чем при one-hot кодировании, если в исходных данных признак имеет большое количество различных значений, а целевая переменная принимает значения из небольшого дипазона. Точность в ходе экспериментов получилась выше, чем на исходных данных, но немного ниже, чем при one-hot кодировании. Но, возможно, при более тщательной настройке переменных можно получить более высокую точность."
   ]
  },
  {
   "cell_type": "markdown",
   "metadata": {},
   "source": [
    "**Задание 5.** Какой лучший мем в 2k18?\n",
    "\n",
    "__Ответ:__ мыш (кродеться)\n",
    "\n",
    "\n",
    "**Задание 6.** Поделитесь лучшим стикерпаком. Только там не должно быть преподавателей и ассистентов этого курса.\n",
    "\n",
    "__Ответ:__ мало пользуюсь телеграмом:("
   ]
  },
  {
   "cell_type": "markdown",
   "metadata": {},
   "source": [
    "## Часть 3 (бонус). Vowpal Wabbit"
   ]
  },
  {
   "cell_type": "markdown",
   "metadata": {},
   "source": [
    "В этой части мы научимся использовать библиотеку [vowpal wabbit](https://github.com/JohnLangford/vowpal_wabbit). У неё есть несколько особенностей:\n",
    "- можно обучать только линейные модели, но за счёт большого количества опций и возможностей по усложнению, можно построить и довольно сложные вещи\n",
    "- можно обучаться на выборках, которые не помещаются в оперативную память\n",
    "- можно обрабатывать большое количество признаков (например, мешки слов текстов) и \"на ходу\" строить на них комбинации (не переделывать датасет)\n",
    "- другие особенности, как например, активное обучение и возможность распараллеленного обучения.\n",
    "\n",
    "Основные особенности при использовании следующие:\n",
    "- Свой формат данных: \"label |A feature1:value1 |B feature2:value2\", позволяющий, во-первых, указывать не все признаки (не нужно хранить много нулей в разреженных данных), а во-вторых, группировать и иметь возможность отключать или взаимодействовать (\"отключать\", добавлять квадратичные признаки и т.д.) сразу со всей группой признаков. По этой причине вам понадобится реализовать конвертер датасета и загрузку своих предсказаний, чтобы посчитать качество предсказаний.\n",
    "- Запуск обучения из командной строки (однако можно запускать эти же команды из ноутбука).\n",
    "\n",
    "В этот раз мы будем использовать данные с конкурса [Kaggle Avazu Click-Through Rate Prediction](https://www.kaggle.com/c/avazu-ctr-prediction) по предсказанию кликов (бинарная классификация). В обучающей выборке 40kk строк, так что у вас не должно быть желания загружать их в оперативную память. Предлагается взять первые 30kk строк в качестве обучающей выборке и оставшуюся часть для тестирования.\n",
    "\n",
    "__Задание 1.__ Работа с vowpal wabbit. \n",
    "\n",
    "- Скачайте данные, разделите их на обучающую и тестовую выборки.\n",
    "- Подготовьте функции для конвертирования датасета в формат vowpal wabbit и для загрузки предсказаний в ноутбук для подсчёта функционала.\n",
    "- Сделайте простейшее решение на vowpal wabbit. Оцените качество.\n",
    "- Изучите возможности и параметры vowpal wabbit. Поэксперементируйте. \n",
    "- Расскажите, что интересного вы узнали (какие-нибудь особенности, режимы работы, фишки, параметры).\n",
    "- Удалось ли вам улучшить качество базовой модели? Насколько? Что ещё можно было бы попробовать?\n",
    "\n",
    "В этом задании предусмотрены баллы по двум критериям:\n",
    "- достижение ROC-AUC на отложенной выборки более 0.738 __(1 балл)__\n",
    "- несколько занимательных фактов и возможностей vowpal-wabbit __(0.5 балла)__."
   ]
  },
  {
   "cell_type": "code",
   "execution_count": null,
   "metadata": {},
   "outputs": [],
   "source": [
    "### ╰( ͡° ͜ʖ ͡° )つ──☆*:・ﾟ"
   ]
  }
 ],
 "metadata": {
  "kernelspec": {
   "display_name": "Python 3",
   "language": "python",
   "name": "python3"
  },
  "language_info": {
   "codemirror_mode": {
    "name": "ipython",
    "version": 3
   },
   "file_extension": ".py",
   "mimetype": "text/x-python",
   "name": "python",
   "nbconvert_exporter": "python",
   "pygments_lexer": "ipython3",
   "version": "3.6.8"
  }
 },
 "nbformat": 4,
 "nbformat_minor": 2
}
